{
 "metadata": {
  "language_info": {
   "codemirror_mode": {
    "name": "ipython",
    "version": 3
   },
   "file_extension": ".py",
   "mimetype": "text/x-python",
   "name": "python",
   "nbconvert_exporter": "python",
   "pygments_lexer": "ipython3",
   "version": "3.8.3-final"
  },
  "orig_nbformat": 2,
  "kernelspec": {
   "name": "python3",
   "display_name": "Python 3",
   "language": "python"
  }
 },
 "nbformat": 4,
 "nbformat_minor": 2,
 "cells": [
  {
   "source": [
    "# Selenium을 이용한 동적 크롤링"
   ],
   "cell_type": "markdown",
   "metadata": {}
  },
  {
   "cell_type": "code",
   "execution_count": 1,
   "metadata": {},
   "outputs": [
    {
     "output_type": "error",
     "ename": "ModuleNotFoundError",
     "evalue": "No module named 'selenium'",
     "traceback": [
      "\u001b[1;31m---------------------------------------------------------------------------\u001b[0m",
      "\u001b[1;31mModuleNotFoundError\u001b[0m                       Traceback (most recent call last)",
      "\u001b[1;32m<ipython-input-1-9d96578a9a9c>\u001b[0m in \u001b[0;36m<module>\u001b[1;34m\u001b[0m\n\u001b[0;32m      1\u001b[0m \u001b[1;32mimport\u001b[0m \u001b[0mrequests\u001b[0m\u001b[1;33m,\u001b[0m \u001b[0mtime\u001b[0m\u001b[1;33m\u001b[0m\u001b[1;33m\u001b[0m\u001b[0m\n\u001b[1;32m----> 2\u001b[1;33m \u001b[1;32mfrom\u001b[0m \u001b[0mselenium\u001b[0m \u001b[1;32mimport\u001b[0m \u001b[0mwebdriver\u001b[0m\u001b[1;33m\u001b[0m\u001b[1;33m\u001b[0m\u001b[0m\n\u001b[0m\u001b[0;32m      3\u001b[0m \u001b[1;32mfrom\u001b[0m \u001b[0mselenium\u001b[0m\u001b[1;33m.\u001b[0m\u001b[0mwebdriver\u001b[0m\u001b[1;33m.\u001b[0m\u001b[0mcommon\u001b[0m\u001b[1;33m.\u001b[0m\u001b[0mkeys\u001b[0m \u001b[1;32mimport\u001b[0m \u001b[0mKeys\u001b[0m\u001b[1;33m\u001b[0m\u001b[1;33m\u001b[0m\u001b[0m\n",
      "\u001b[1;31mModuleNotFoundError\u001b[0m: No module named 'selenium'"
     ]
    }
   ],
   "source": [
    "import requests, time\n",
    "from selenium import webdriver\n",
    "from selenium.webdriver.common.keys import Keys"
   ]
  },
  {
   "cell_type": "code",
   "execution_count": 3,
   "metadata": {},
   "outputs": [],
   "source": [
    "from bs4 import BeautifulSoup\n",
    "\n",
    "url = 'https://sports.news.naver.com/kbaseball/news/index.nhn?isphoto=N'\n",
    "req = requests.get(url)\n",
    "soup = BeautifulSoup(req.text, 'html.parser')\n",
    "\n",
    "# BeautifulSoup으로 크롤링을 하려고 하였지만 본문은 크롤링이 안됨"
   ]
  },
  {
   "source": [
    "### 야구 > 최신뉴스"
   ],
   "cell_type": "markdown",
   "metadata": {}
  },
  {
   "cell_type": "code",
   "execution_count": 14,
   "metadata": {},
   "outputs": [],
   "source": [
    "driver = webdriver.Chrome('chromedriver')\n",
    "url = 'https://sports.news.naver.com/kbaseball/news/index.nhn?isphoto=N'\n",
    "driver.get(url)"
   ]
  },
  {
   "cell_type": "code",
   "execution_count": 15,
   "metadata": {},
   "outputs": [],
   "source": [
    "# 최신 뉴스 리스트의 맨 마지막 페이지\n",
    "while True:\n",
    "    page = driver.find_element_by_id('_pageList')\n",
    "    try:\n",
    "        next = page.find_element_by_class_name('next')\n",
    "        if next:\n",
    "            next.click()\n",
    "    except:\n",
    "        break;"
   ]
  },
  {
   "cell_type": "code",
   "execution_count": 17,
   "metadata": {},
   "outputs": [
    {
     "output_type": "execute_result",
     "data": {
      "text/plain": [
       "20"
      ]
     },
     "metadata": {},
     "execution_count": 17
    }
   ],
   "source": [
    "page = driver.find_element_by_id('_pageList')\n",
    "try:\n",
    "    atags = page.find_elements_by_tag_name('a')\n",
    "    numPage = int(atags[-1].text)\n",
    "except:\n",
    "    numPage = 1\n",
    "numPage"
   ]
  },
  {
   "cell_type": "code",
   "execution_count": 18,
   "metadata": {},
   "outputs": [
    {
     "output_type": "execute_result",
     "data": {
      "text/plain": [
       "20"
      ]
     },
     "metadata": {},
     "execution_count": 18
    }
   ],
   "source": [
    "news = driver.find_element_by_id('_newsList')\n",
    "lis = news.find_elements_by_tag_name('li')\n",
    "len(lis)"
   ]
  },
  {
   "cell_type": "code",
   "execution_count": 20,
   "metadata": {},
   "outputs": [
    {
     "output_type": "stream",
     "name": "stdout",
     "text": [
      "[수원현장]LG 선발 수아레즈→남호로 바꾼 까닭...궁금해지는 개막 로테이션\n",
      "Hanwha Eagles rebuild to be filmed for documentary series\n",
      "에이스 떠난 자리 실감하는 SSG·KIA 마운드, 고민 해결은 '현재 진행형'\n",
      "삼성 2선발 라이블리 9이닝 9실점, 올해도 슬로 스타터?\n",
      "[IS 대구] 7번·8번, 5번·6번…김혜성과 박동원의 타순이 붙는 이유\n",
      "SSG 5선발 경합 결과 나왔다…이건욱으로 결정 [스경X현장]\n",
      "KT, 이차돌과 업무 협약\n",
      "‘1사 만루 루킹 삼진’ 장운호 칭찬한 수베로 “출루에 집중한 자세” [엠스플 현장]\n",
      "두산, 휠라와 30년 연속 파트너십\n",
      "두산, 휠라(FILA)와 2024년까지 동행…30년 연속 후원\n",
      "한화의 2021 시즌, 왓챠 오리지널 다큐멘터리로 제작된다\n",
      "비시즌 ‘조기퇴근’ 원조 키움, 새로운 더그아웃 문화 만든다 [스경X현장]\n",
      "'수아레즈→남호' 선발 바꾼 LG, 4월6일 KT전 의식한 연막? [★수원]\n",
      "롯데 개막전 선발은 스트레일리, ‘꼭꼭 숨겨라’ [스경X현장]\n",
      "kt, 외식전문기업 '이차돌'과 2021 시즌 업무 협약 체결\n",
      "‘핵펀치 복서들의 팽팽한 긴장감’, 강백호 가슴에 원투펀치 날린 라모스[수원영상]\n",
      "배팅볼 던지는 수베로 감독, ‘힐리, 칠테면 쳐봐’[O! SPORTS]\n",
      "LG, 수아레즈 등판 일정 조정… 25일 두산전 선발등판 [현장스케치]\n",
      "수베로 감독의 철학, 삼진 아웃에도 '가치'가 있다\n",
      "페르난데스-힐리, 나란히 1루 수비…두산-한화 라인업 발표 [오!쎈 잠실]\n"
     ]
    }
   ],
   "source": [
    "for li in lis:\n",
    "    text = li.find_element_by_class_name('title')\n",
    "    title = text.find_element_by_tag_name('span').text\n",
    "    print(title)"
   ]
  },
  {
   "source": [
    "### 종목 가져오기"
   ],
   "cell_type": "markdown",
   "metadata": {}
  },
  {
   "cell_type": "code",
   "execution_count": 21,
   "metadata": {},
   "outputs": [
    {
     "output_type": "stream",
     "name": "stdout",
     "text": [
      "스포츠홈\n",
      "야구\n",
      "해외야구\n",
      "축구\n",
      "해외축구\n",
      "농구\n",
      "배구\n",
      "골프\n",
      "일반\n",
      "e스포츠&게임\n",
      "오늘의 경기\n",
      "연재\n",
      "랭킹\n"
     ]
    }
   ],
   "source": [
    "menus = driver.find_elements_by_class_name('main_menu_item')\n",
    "for menu in menus:\n",
    "    event = menu.find_element_by_tag_name('a').text\n",
    "    print(event)"
   ]
  },
  {
   "cell_type": "code",
   "execution_count": 22,
   "metadata": {},
   "outputs": [
    {
     "output_type": "execute_result",
     "data": {
      "text/plain": [
       "['https://sports.news.naver.com/kbaseball/index.nhn',\n",
       " 'https://sports.news.naver.com/wbaseball/index.nhn',\n",
       " 'https://sports.news.naver.com/kfootball/index.nhn',\n",
       " 'https://sports.news.naver.com/wfootball/index.nhn',\n",
       " 'https://sports.news.naver.com/basketball/index.nhn',\n",
       " 'https://sports.news.naver.com/volleyball/index.nhn',\n",
       " 'https://sports.news.naver.com/golf/index.nhn',\n",
       " 'https://sports.news.naver.com/general/index.nhn',\n",
       " 'https://sports.news.naver.com/esports/index.nhn']"
      ]
     },
     "metadata": {},
     "execution_count": 22
    }
   ],
   "source": [
    "menus = driver.find_elements_by_class_name('main_menu_item')\n",
    "events = []\n",
    "for menu in menus[1:-3]:\n",
    "    event = menu.find_element_by_tag_name('a').get_attribute('href')\n",
    "    events.append(event)\n",
    "events"
   ]
  },
  {
   "cell_type": "code",
   "execution_count": 23,
   "metadata": {},
   "outputs": [
    {
     "output_type": "execute_result",
     "data": {
      "text/plain": [
       "['kbaseball',\n",
       " 'wbaseball',\n",
       " 'kfootball',\n",
       " 'wfootball',\n",
       " 'basketball',\n",
       " 'volleyball',\n",
       " 'golf',\n",
       " 'general',\n",
       " 'esports']"
      ]
     },
     "metadata": {},
     "execution_count": 23
    }
   ],
   "source": [
    "menus = driver.find_elements_by_class_name('main_menu_item')\n",
    "events = []\n",
    "for menu in menus[1:-3]:\n",
    "    event = menu.find_element_by_tag_name('a').get_attribute('href')\n",
    "    events.append(event.split('/')[3])\n",
    "events"
   ]
  },
  {
   "cell_type": "code",
   "execution_count": null,
   "metadata": {},
   "outputs": [],
   "source": [
    "base_url = 'https://sports.news.naver.com/'\n",
    "sub_url = '/news/index.nhn?isphoto=N'\n",
    "for event in events:\n",
    "    url = f'{base_url}{event}{sub_url}'"
   ]
  }
 ]
}