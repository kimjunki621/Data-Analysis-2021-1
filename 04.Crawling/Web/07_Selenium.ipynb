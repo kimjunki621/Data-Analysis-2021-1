{
 "metadata": {
  "language_info": {
   "codemirror_mode": {
    "name": "ipython",
    "version": 3
   },
   "file_extension": ".py",
   "mimetype": "text/x-python",
   "name": "python",
   "nbconvert_exporter": "python",
   "pygments_lexer": "ipython3",
   "version": "3.8.3-final"
  },
  "orig_nbformat": 2,
  "kernelspec": {
   "name": "python3",
   "display_name": "Python 3",
   "language": "python"
  }
 },
 "nbformat": 4,
 "nbformat_minor": 2,
 "cells": [
  {
   "source": [
    "# Selenium을 이용한 동적 크롤링"
   ],
   "cell_type": "markdown",
   "metadata": {}
  },
  {
   "cell_type": "code",
   "execution_count": 29,
   "metadata": {},
   "outputs": [
    {
     "output_type": "stream",
     "name": "stdout",
     "text": [
      "Requirement already satisfied: selenium in c:\\users\\jk950\\anaconda3\\lib\\site-packages (3.141.0)\nRequirement already satisfied: urllib3 in c:\\users\\jk950\\anaconda3\\lib\\site-packages (from selenium) (1.25.9)\n"
     ]
    }
   ],
   "source": [
    "!pip install selenium"
   ]
  },
  {
   "cell_type": "code",
   "execution_count": 30,
   "metadata": {},
   "outputs": [],
   "source": [
    "import requests, time\n",
    "from selenium import webdriver\n",
    "from selenium.webdriver.common.keys import Keys"
   ]
  },
  {
   "cell_type": "code",
   "execution_count": 31,
   "metadata": {},
   "outputs": [],
   "source": [
    "from bs4 import BeautifulSoup\n",
    "\n",
    "url = 'https://sports.news.naver.com/kbaseball/news/index.nhn?isphoto=N'\n",
    "req = requests.get(url)\n",
    "soup = BeautifulSoup(req.text, 'html.parser')\n",
    "\n",
    "# BeautifulSoup으로 크롤링을 하려고 하였지만 본문은 크롤링이 안됨"
   ]
  },
  {
   "source": [
    "### 야구 > 최신뉴스"
   ],
   "cell_type": "markdown",
   "metadata": {}
  },
  {
   "cell_type": "code",
   "execution_count": 32,
   "metadata": {},
   "outputs": [],
   "source": [
    "driver = webdriver.Chrome('chromedriver')\n",
    "url = 'https://sports.news.naver.com/kbaseball/news/index.nhn?isphoto=N'\n",
    "driver.get(url)\n"
   ]
  },
  {
   "cell_type": "code",
   "execution_count": 33,
   "metadata": {},
   "outputs": [],
   "source": [
    "# 최신 뉴스 리스트의 맨 마지막 페이지\n",
    "while True:\n",
    "    page = driver.find_element_by_id('_pageList')\n",
    "    try:\n",
    "        next = page.find_element_by_class_name('next')\n",
    "        if next:\n",
    "            next.click()\n",
    "    except:\n",
    "        break;"
   ]
  },
  {
   "cell_type": "code",
   "execution_count": 34,
   "metadata": {},
   "outputs": [
    {
     "output_type": "execute_result",
     "data": {
      "text/plain": [
       "1"
      ]
     },
     "metadata": {},
     "execution_count": 34
    }
   ],
   "source": [
    "page = driver.find_element_by_id('_pageList')\n",
    "try:\n",
    "    atags = page.find_elements_by_tag_name('a')\n",
    "    numPage = int(atags[-1].text)\n",
    "except:\n",
    "    numPage = 1\n",
    "numPage"
   ]
  },
  {
   "cell_type": "code",
   "execution_count": 35,
   "metadata": {},
   "outputs": [
    {
     "output_type": "execute_result",
     "data": {
      "text/plain": [
       "3"
      ]
     },
     "metadata": {},
     "execution_count": 35
    }
   ],
   "source": [
    "news = driver.find_element_by_id('_newsList')\n",
    "lis = news.find_elements_by_tag_name('li')\n",
    "len(lis)"
   ]
  },
  {
   "cell_type": "code",
   "execution_count": 36,
   "metadata": {},
   "outputs": [
    {
     "output_type": "stream",
     "name": "stdout",
     "text": [
      "친구 이대호 앞에서 추신수 첫 안타\n[부산 핫포커스] '박수+환호' 홈런 못지 않았던 '첫 안타' 환호…추신수 \"기분 이상하던데요\"\n안철수 “새 잠실야구장, 내년 신축…25개구마다 에어돔” 공약\n"
     ]
    }
   ],
   "source": [
    "for li in lis:\n",
    "    text = li.find_element_by_class_name('title')\n",
    "    title = text.find_element_by_tag_name('span').text\n",
    "    print(title)"
   ]
  },
  {
   "source": [
    "### 종목 가져오기"
   ],
   "cell_type": "markdown",
   "metadata": {}
  },
  {
   "cell_type": "code",
   "execution_count": 37,
   "metadata": {},
   "outputs": [
    {
     "output_type": "stream",
     "name": "stdout",
     "text": [
      "스포츠홈\n",
      "야구\n",
      "해외야구\n",
      "축구\n",
      "해외축구\n",
      "농구\n",
      "배구\n",
      "골프\n",
      "일반\n",
      "e스포츠&게임\n",
      "오늘의 경기\n",
      "연재\n",
      "랭킹\n"
     ]
    }
   ],
   "source": [
    "menus = driver.find_elements_by_class_name('main_menu_item')\n",
    "for menu in menus:\n",
    "    event = menu.find_element_by_tag_name('a').text\n",
    "    print(event)"
   ]
  },
  {
   "cell_type": "code",
   "execution_count": 38,
   "metadata": {},
   "outputs": [
    {
     "output_type": "execute_result",
     "data": {
      "text/plain": [
       "['https://sports.news.naver.com/kbaseball/index.nhn',\n",
       " 'https://sports.news.naver.com/wbaseball/index.nhn',\n",
       " 'https://sports.news.naver.com/kfootball/index.nhn',\n",
       " 'https://sports.news.naver.com/wfootball/index.nhn',\n",
       " 'https://sports.news.naver.com/basketball/index.nhn',\n",
       " 'https://sports.news.naver.com/volleyball/index.nhn',\n",
       " 'https://sports.news.naver.com/golf/index.nhn',\n",
       " 'https://sports.news.naver.com/general/index.nhn',\n",
       " 'https://sports.news.naver.com/esports/index.nhn']"
      ]
     },
     "metadata": {},
     "execution_count": 38
    }
   ],
   "source": [
    "menus = driver.find_elements_by_class_name('main_menu_item')\n",
    "events = []\n",
    "for menu in menus[1:-3]:\n",
    "    event = menu.find_element_by_tag_name('a').get_attribute('href')\n",
    "    events.append(event)\n",
    "events"
   ]
  },
  {
   "cell_type": "code",
   "execution_count": 39,
   "metadata": {},
   "outputs": [
    {
     "output_type": "execute_result",
     "data": {
      "text/plain": [
       "['kbaseball',\n",
       " 'wbaseball',\n",
       " 'kfootball',\n",
       " 'wfootball',\n",
       " 'basketball',\n",
       " 'volleyball',\n",
       " 'golf',\n",
       " 'general',\n",
       " 'esports']"
      ]
     },
     "metadata": {},
     "execution_count": 39
    }
   ],
   "source": [
    "menus = driver.find_elements_by_class_name('main_menu_item')\n",
    "events = []\n",
    "for menu in menus[1:-3]:\n",
    "    event = menu.find_element_by_tag_name('a').get_attribute('href')\n",
    "    events.append(event.split('/')[3])\n",
    "events"
   ]
  },
  {
   "cell_type": "code",
   "execution_count": 40,
   "metadata": {},
   "outputs": [
    {
     "output_type": "stream",
     "name": "stdout",
     "text": [
      "kbaseball: 1wbaseball: 7kfootball: 12wfootball: 13basketball: 9volleyball: 5golf: 6general: 8esports: 9"
     ]
    }
   ],
   "source": [
    "base_url = 'https://sports.news.naver.com/'\n",
    "sub_url = '/news/index.nhn?isphoto=N'\n",
    "\n",
    "for event in events:\n",
    "    print(event, end=': ')\n",
    "    url = f'{base_url}{event}{sub_url}'\n",
    "    driver.get(url)\n",
    "    time.sleep(1)\n",
    "\n",
    "    while True:\n",
    "        page = driver.find_element_by_id('_pageList')\n",
    "        try:\n",
    "            next = page.find_element_by_class_name('next')\n",
    "            if next:\n",
    "                next.click()\n",
    "        except:\n",
    "            break;\n",
    "\n",
    "    page = driver.find_element_by_id('_pageList')\n",
    "    try:\n",
    "        atags = page.find_elements_by_tag_name('a')\n",
    "        numPage = int(atags[-1].text)\n",
    "    except:\n",
    "        numPage = 1\n",
    "\n",
    "    print(numPage, end='')\n",
    "\n",
    "   #for page in range(1, numPage+1):\n",
    "         #url = f'{base_url}{event}{sub_url}&page={}'"
   ]
  },
  {
   "cell_type": "code",
   "execution_count": null,
   "metadata": {},
   "outputs": [],
   "source": []
  }
 ]
}